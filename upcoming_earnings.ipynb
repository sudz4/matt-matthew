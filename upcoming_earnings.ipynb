{
 "cells": [
  {
   "cell_type": "code",
   "execution_count": 19,
   "metadata": {},
   "outputs": [
    {
     "name": "stdout",
     "output_type": "stream",
     "text": [
      "Next earnings date: {'Dividend Date': datetime.date(2025, 2, 12), 'Ex-Dividend Date': datetime.date(2025, 2, 9), 'Earnings Date': [datetime.date(2025, 4, 30), datetime.date(2025, 5, 5)], 'Earnings High': 1.67, 'Earnings Low': 1.5, 'Earnings Average': 1.61721, 'Revenue High': 95903397000, 'Revenue Low': 89370000000, 'Revenue Average': 94063213870}\n",
      "Earnings history:\n",
      "                           EPS Estimate  Reported EPS  Surprise(%)\n",
      "Earnings Date                                                     \n",
      "2026-01-27 19:00:00-05:00           NaN           NaN          NaN\n",
      "2025-10-28 20:00:00-04:00           NaN           NaN          NaN\n",
      "2025-07-29 20:00:00-04:00           NaN           NaN          NaN\n",
      "2025-04-29 20:00:00-04:00           NaN           NaN          NaN\n",
      "2025-01-29 19:00:00-05:00          2.35          2.40         2.15\n",
      "2024-10-30 20:00:00-04:00          1.60          1.64         2.35\n",
      "2024-07-31 20:00:00-04:00          1.35          1.40         3.99\n",
      "2024-05-01 20:00:00-04:00          1.50          1.53         1.97\n",
      "2024-01-31 19:00:00-05:00          2.10          2.18         3.90\n",
      "2023-11-01 20:00:00-04:00          1.39          1.46         4.92\n",
      "2023-08-02 20:00:00-04:00          1.19          1.26         5.49\n",
      "2023-05-03 20:00:00-04:00          1.43          1.52         6.03\n"
     ]
    }
   ],
   "source": [
    "import yfinance as yf\n",
    "\n",
    "# Create a ticker object\n",
    "ticker = yf.Ticker(\"AAPL\")\n",
    "\n",
    "# Get next earnings date\n",
    "next_earnings_date = ticker.calendar\n",
    "print(\"Next earnings date:\", next_earnings_date)\n",
    "\n",
    "# Get historical earnings dates (with estimates and actuals)\n",
    "earnings_history = ticker.earnings_dates\n",
    "print(\"Earnings history:\")\n",
    "print(earnings_history)"
   ]
  },
  {
   "cell_type": "code",
   "execution_count": 22,
   "metadata": {},
   "outputs": [
    {
     "name": "stdout",
     "output_type": "stream",
     "text": [
      "No upcoming earnings found in the specified time window.\n"
     ]
    }
   ],
   "source": [
    "import yfinance as yf\n",
    "import pandas as pd\n",
    "from datetime import datetime, timedelta\n",
    "\n",
    "# Get S&P 500 tickers directly from Wikipedia\n",
    "def get_sp500_tickers():\n",
    "    sp500_tickers = pd.read_html('https://en.wikipedia.org/wiki/List_of_S%26P_500_companies')[0]\n",
    "    return sp500_tickers['Symbol'].tolist()\n",
    "\n",
    "# Define time window (this week and next week)\n",
    "today = datetime.now()\n",
    "two_weeks_later = today + timedelta(days=14)\n",
    "\n",
    "# Get S&P 500 tickers\n",
    "tickers = get_sp500_tickers()\n",
    "\n",
    "# Create empty list to store results\n",
    "upcoming_earnings = []\n",
    "\n",
    "# Loop through tickers and check for upcoming earnings\n",
    "for ticker_symbol in tickers:\n",
    "    try:\n",
    "        # Convert ticker symbols to proper format (some may have dots instead of hyphens)\n",
    "        ticker_symbol = ticker_symbol.replace('.', '-')\n",
    "        \n",
    "        # Get ticker info\n",
    "        ticker = yf.Ticker(ticker_symbol)\n",
    "        \n",
    "        # Get next earnings date\n",
    "        try:\n",
    "            earnings_date = ticker.calendar.iloc[0, 0] if hasattr(ticker, 'calendar') and ticker.calendar is not None and not ticker.calendar.empty else None\n",
    "            \n",
    "            # Check if earnings date exists and is within our window\n",
    "            if earnings_date is not None and today <= earnings_date <= two_weeks_later:\n",
    "                upcoming_earnings.append({\n",
    "                    'Ticker': ticker_symbol,\n",
    "                    'Company': ticker.info.get('longName', 'N/A'),\n",
    "                    'Earnings Date': earnings_date,\n",
    "                    'Days Until Earnings': (earnings_date - today).days\n",
    "                })\n",
    "        except (AttributeError, IndexError):\n",
    "            # Handle case where calendar attribute might not exist or be accessible\n",
    "            pass\n",
    "            \n",
    "    except Exception as e:\n",
    "        print(f\"Error with {ticker_symbol}: {e}\")\n",
    "        continue\n",
    "\n",
    "# Convert to DataFrame and sort by earnings date\n",
    "if upcoming_earnings:\n",
    "    earnings_df = pd.DataFrame(upcoming_earnings)\n",
    "    earnings_df = earnings_df.sort_values('Earnings Date')\n",
    "    print(earnings_df)\n",
    "else:\n",
    "    print(\"No upcoming earnings found in the specified time window.\")"
   ]
  }
 ],
 "metadata": {
  "kernelspec": {
   "display_name": "mm_venv",
   "language": "python",
   "name": "python3"
  },
  "language_info": {
   "codemirror_mode": {
    "name": "ipython",
    "version": 3
   },
   "file_extension": ".py",
   "mimetype": "text/x-python",
   "name": "python",
   "nbconvert_exporter": "python",
   "pygments_lexer": "ipython3",
   "version": "3.11.1"
  }
 },
 "nbformat": 4,
 "nbformat_minor": 2
}

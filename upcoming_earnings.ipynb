{
 "cells": [
  {
   "cell_type": "code",
   "execution_count": 19,
   "metadata": {},
   "outputs": [
    {
     "name": "stdout",
     "output_type": "stream",
     "text": [
      "Next earnings date: {'Dividend Date': datetime.date(2025, 2, 12), 'Ex-Dividend Date': datetime.date(2025, 2, 9), 'Earnings Date': [datetime.date(2025, 4, 30), datetime.date(2025, 5, 5)], 'Earnings High': 1.67, 'Earnings Low': 1.5, 'Earnings Average': 1.61721, 'Revenue High': 95903397000, 'Revenue Low': 89370000000, 'Revenue Average': 94063213870}\n",
      "Earnings history:\n",
      "                           EPS Estimate  Reported EPS  Surprise(%)\n",
      "Earnings Date                                                     \n",
      "2026-01-27 19:00:00-05:00           NaN           NaN          NaN\n",
      "2025-10-28 20:00:00-04:00           NaN           NaN          NaN\n",
      "2025-07-29 20:00:00-04:00           NaN           NaN          NaN\n",
      "2025-04-29 20:00:00-04:00           NaN           NaN          NaN\n",
      "2025-01-29 19:00:00-05:00          2.35          2.40         2.15\n",
      "2024-10-30 20:00:00-04:00          1.60          1.64         2.35\n",
      "2024-07-31 20:00:00-04:00          1.35          1.40         3.99\n",
      "2024-05-01 20:00:00-04:00          1.50          1.53         1.97\n",
      "2024-01-31 19:00:00-05:00          2.10          2.18         3.90\n",
      "2023-11-01 20:00:00-04:00          1.39          1.46         4.92\n",
      "2023-08-02 20:00:00-04:00          1.19          1.26         5.49\n",
      "2023-05-03 20:00:00-04:00          1.43          1.52         6.03\n"
     ]
    }
   ],
   "source": [
    "import yfinance as yf\n",
    "\n",
    "# Create a ticker object\n",
    "ticker = yf.Ticker(\"AAPL\")\n",
    "\n",
    "# Get next earnings date\n",
    "next_earnings_date = ticker.calendar\n",
    "print(\"Next earnings date:\", next_earnings_date)\n",
    "\n",
    "# Get historical earnings dates (with estimates and actuals)\n",
    "earnings_history = ticker.earnings_dates\n",
    "print(\"Earnings history:\")\n",
    "print(earnings_history)"
   ]
  }
 ],
 "metadata": {
  "kernelspec": {
   "display_name": "mm_venv",
   "language": "python",
   "name": "python3"
  },
  "language_info": {
   "codemirror_mode": {
    "name": "ipython",
    "version": 3
   },
   "file_extension": ".py",
   "mimetype": "text/x-python",
   "name": "python",
   "nbconvert_exporter": "python",
   "pygments_lexer": "ipython3",
   "version": "3.11.1"
  }
 },
 "nbformat": 4,
 "nbformat_minor": 2
}

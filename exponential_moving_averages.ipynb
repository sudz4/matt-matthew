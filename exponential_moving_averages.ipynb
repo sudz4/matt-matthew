{
 "cells": [
  {
   "cell_type": "code",
   "execution_count": 1,
   "metadata": {},
   "outputs": [],
   "source": [
    "import pandas as pd"
   ]
  },
  {
   "cell_type": "code",
   "execution_count": 2,
   "metadata": {},
   "outputs": [],
   "source": [
    "# #####---------------------#####s\n",
    "# screen_date = '2025-03-07'\n",
    "screen_date = '2025-03-13'\n",
    "# #####---------------------#####\n",
    "# read pre market data from TradingView data via csv\n",
    "trading_view_df = pd.read_csv(f\"/Users/sudz4/Desktop/MATT-MATTHEW/matt-matthew/tv_screen_gap-up_{screen_date}.csv\")"
   ]
  },
  {
   "cell_type": "code",
   "execution_count": 4,
   "metadata": {},
   "outputs": [
    {
     "name": "stdout",
     "output_type": "stream",
     "text": [
      "Number of stocks where EMA3 > EMA7: 316\n",
      "\n",
      "Filtered stocks:\n",
      "['NVDA', 'BRK.B', 'MRK', 'SHEL', 'PGR', 'PDD', 'NEE', 'MUFG', 'TTE', 'BMY', 'INTC', 'MO', 'SMFG', 'ENB', 'BP', 'MCK', 'GSK', 'SCCO', 'WMB', 'EQNR', 'ET', 'CNQ', 'OKE', 'FCX', 'ALL', 'AEM', 'NEM', 'COR', 'GM', 'TAK', 'AXON', 'VEEV', 'ED', 'WPM', 'GOLD', 'BIDU', 'CHT', 'TEF', 'CVE', 'XPEV', 'VOD', 'BCE', 'TECK', 'EC', 'LUV', 'DG', 'AU', 'KGC', 'MRNA', 'YMM', 'AR', 'GGAL', 'AGI', 'AEG', 'DTM', 'HESM', 'PAAS', 'AGNCN', 'AGNCM', 'AGNCP', 'RRC', 'TLN', 'SUN', 'AES', 'X', 'VIPS', 'FN', 'NYT', 'MOS', 'RVMD', 'NXT', 'CWEN.A', 'CWEN', 'SNDK', 'VRNA', 'BE', 'SAIC', 'CTRE', 'FMC', 'ALGM', 'VIST', 'BBAR', 'ADMA', 'BEPC', 'PAGP', 'RNA', 'ACLX', 'SBRA', 'OGN', 'TFPM', 'CDE', 'IAG', 'BSM', 'SWI', 'AG', 'EGO', 'PTEN', 'HBM', 'WD', 'DRVN', 'MRCY', 'VAL', 'USLM', 'PSNY', 'APGE', 'CXM', 'AAP', 'KYMR', 'FINV', 'SSRM', 'BLTE', 'QBTS', 'ENLT', 'KYN', 'STC', 'SBLK', 'SID', 'ACLS', 'CENX', 'ARQT', 'CMBT', 'TARS', 'KLG', 'MNR', 'CSTM', 'AGL', 'FSM', 'KNSA', 'BTE', 'BKV', 'WVE', 'SDGR', 'VVX', 'ANIP', 'OCUL', 'EXK', 'CMRE', 'NTST', 'HLX', 'GIII', 'GRDN', 'FLNG', 'SA', 'SAFT', 'MFA', 'GYRE', 'TBLA', 'AVAH', 'LPG', 'CYD', 'BLND', 'BVS', 'SXC', 'QUBT', 'NUVB', 'KREF', 'RERE', 'YALA', 'ECO', 'PPTA', 'MGTX', 'KIDS', 'YRD', 'XYF', 'ANAB', 'JELD', 'CMCO', 'METC', 'LGTY', 'CMTG', 'GTN', 'HNRG', 'YSG', 'CWCO', 'TRML', 'ERAS', 'DFP', 'ALDX', 'EGY', 'MUX', 'MREO', 'CRMT', 'HAIN', 'BLDP', 'ANGO', 'CANG', 'NYXH', 'BNTC', 'SATL', 'AMLX', 'ATYR', 'SKBL', 'VSTA', 'AQST', 'SLRN', 'AVIR', 'FTK', 'LFMD', 'SSP', 'ABEO', 'INBX', 'FFNW', 'BDMD', 'GENK', 'CKPT', 'LNSR', 'GNFT', 'CXDO', 'NVX', 'SKIN', 'ACR', 'ARQQ', 'BETR', 'TLSA', 'RAPT', 'CURR', 'SHIP', 'PDEX', 'TARA', 'NXG', 'ACNT', 'VXRT', 'BROG', 'SNRE', 'IH', 'MIST', 'SNCR', 'EPWK', 'GALT', 'ZENA', 'BRLT', 'ADVM', 'CABA', 'FOSL', 'UPLD', 'ATLX', 'QMCO', 'BTM', 'FNGR', 'INCR', 'PEPG', 'AXTI', 'ENTX', 'HYMC', 'GMM', 'GORV', 'MURA', 'IOBT', 'UNCY', 'NHTC', 'GANX', 'RGC', 'CRVO', 'MBOT', 'OKYO', 'JZXN', 'NINE', 'DUOT', 'FBIO', 'TDTH', 'LGCL', 'SHLT', 'ATRA', 'GDHG', 'TPST', 'FEMY', 'COEP', 'AWRE', 'QMMM', 'XCUR', 'ELEV', 'WVVI', 'NCEW', 'UBX', 'PMEC', 'PEV', 'NWGL', 'ENLV', 'YOSH', 'PMN', 'RAY', 'CETY', 'AIFU', 'LFWD', 'ANGH', 'IPA', 'MGIH', 'MIRA', 'GOVX', 'ICU', 'BLIN', 'HOTH', 'LEDS', 'BPT', 'UBXG', 'KPRX', 'BFRI', 'ANTE', 'APTO', 'RVYL', 'ASST', 'BREA', 'IVDA', 'DRMA', 'VRAX', 'JNVR', 'ZAPP', 'FAAS', 'SILO', 'BON', 'BKYI', 'STSS', 'FRGT', 'GNPX', 'SXTP', 'HMR']\n"
     ]
    }
   ],
   "source": [
    "#### EMA3 > EMA7 #### Bullish ####\n",
    "ema_df = trading_view_df['Exponential Moving Average (3) 1 day'] > trading_view_df['Exponential Moving Average (7) 1 day']\n",
    "\n",
    "# Apply the filter to smash_df\n",
    "ema_bullish_df = trading_view_df[ema_df]\n",
    "\n",
    "# Print the number of stocks that meet the criteria\n",
    "print(f\"Number of stocks where EMA3 > EMA7: {len(ema_bullish_df)}\")\n",
    "print(\"\\nFiltered stocks:\")\n",
    "print(ema_bullish_df['Symbol'].tolist())"
   ]
  }
 ],
 "metadata": {
  "kernelspec": {
   "display_name": "mm_venv",
   "language": "python",
   "name": "python3"
  },
  "language_info": {
   "codemirror_mode": {
    "name": "ipython",
    "version": 3
   },
   "file_extension": ".py",
   "mimetype": "text/x-python",
   "name": "python",
   "nbconvert_exporter": "python",
   "pygments_lexer": "ipython3",
   "version": "3.11.1"
  }
 },
 "nbformat": 4,
 "nbformat_minor": 2
}

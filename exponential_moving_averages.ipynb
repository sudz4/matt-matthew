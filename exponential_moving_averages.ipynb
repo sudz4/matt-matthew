{
 "cells": [
  {
   "cell_type": "code",
   "execution_count": 1,
   "metadata": {},
   "outputs": [],
   "source": [
    "import pandas as pd"
   ]
  },
  {
   "cell_type": "code",
   "execution_count": 2,
   "metadata": {},
   "outputs": [],
   "source": [
    "# #####---------------------#####s\n",
    "# screen_date = '2025-03-07'\n",
    "screen_date = '2025-03-13'\n",
    "# #####---------------------#####\n",
    "# read pre market data from TradingView data via csv\n",
    "trading_view_df = pd.read_csv(f\"/Users/sudz4/Desktop/MATT-MATTHEW/matt-matthew/tv_screen_gap-up_{screen_date}.csv\")"
   ]
  },
  {
   "cell_type": "code",
   "execution_count": 9,
   "metadata": {},
   "outputs": [
    {
     "name": "stdout",
     "output_type": "stream",
     "text": [
      "Number of stocks where EMA3 > EMA7: 316\n",
      "\n",
      "Filtered stocks:\n",
      "['NVDA', 'BRK.B', 'MRK', 'SHEL', 'PGR', 'PDD', 'NEE', 'MUFG', 'TTE', 'BMY', 'INTC', 'MO', 'SMFG', 'ENB', 'BP', 'MCK', 'GSK', 'SCCO', 'WMB', 'EQNR', 'ET', 'CNQ', 'OKE', 'FCX', 'ALL', 'AEM', 'NEM', 'COR', 'GM', 'TAK', 'AXON', 'VEEV', 'ED', 'WPM', 'GOLD', 'BIDU', 'CHT', 'TEF', 'CVE', 'XPEV', 'VOD', 'BCE', 'TECK', 'EC', 'LUV', 'DG', 'AU', 'KGC', 'MRNA', 'YMM', 'AR', 'GGAL', 'AGI', 'AEG', 'DTM', 'HESM', 'PAAS', 'AGNCN', 'AGNCM', 'AGNCP', 'RRC', 'TLN', 'SUN', 'AES', 'X', 'VIPS', 'FN', 'NYT', 'MOS', 'RVMD', 'NXT', 'CWEN.A', 'CWEN', 'SNDK', 'VRNA', 'BE', 'SAIC', 'CTRE', 'FMC', 'ALGM', 'VIST', 'BBAR', 'ADMA', 'BEPC', 'PAGP', 'RNA', 'ACLX', 'SBRA', 'OGN', 'TFPM', 'CDE', 'IAG', 'BSM', 'SWI', 'AG', 'EGO', 'PTEN', 'HBM', 'WD', 'DRVN', 'MRCY', 'VAL', 'USLM', 'PSNY', 'APGE', 'CXM', 'AAP', 'KYMR', 'FINV', 'SSRM', 'BLTE', 'QBTS', 'ENLT', 'KYN', 'STC', 'SBLK', 'SID', 'ACLS', 'CENX', 'ARQT', 'CMBT', 'TARS', 'KLG', 'MNR', 'CSTM', 'AGL', 'FSM', 'KNSA', 'BTE', 'BKV', 'WVE', 'SDGR', 'VVX', 'ANIP', 'OCUL', 'EXK', 'CMRE', 'NTST', 'HLX', 'GIII', 'GRDN', 'FLNG', 'SA', 'SAFT', 'MFA', 'GYRE', 'TBLA', 'AVAH', 'LPG', 'CYD', 'BLND', 'BVS', 'SXC', 'QUBT', 'NUVB', 'KREF', 'RERE', 'YALA', 'ECO', 'PPTA', 'MGTX', 'KIDS', 'YRD', 'XYF', 'ANAB', 'JELD', 'CMCO', 'METC', 'LGTY', 'CMTG', 'GTN', 'HNRG', 'YSG', 'CWCO', 'TRML', 'ERAS', 'DFP', 'ALDX', 'EGY', 'MUX', 'MREO', 'CRMT', 'HAIN', 'BLDP', 'ANGO', 'CANG', 'NYXH', 'BNTC', 'SATL', 'AMLX', 'ATYR', 'SKBL', 'VSTA', 'AQST', 'SLRN', 'AVIR', 'FTK', 'LFMD', 'SSP', 'ABEO', 'INBX', 'FFNW', 'BDMD', 'GENK', 'CKPT', 'LNSR', 'GNFT', 'CXDO', 'NVX', 'SKIN', 'ACR', 'ARQQ', 'BETR', 'TLSA', 'RAPT', 'CURR', 'SHIP', 'PDEX', 'TARA', 'NXG', 'ACNT', 'VXRT', 'BROG', 'SNRE', 'IH', 'MIST', 'SNCR', 'EPWK', 'GALT', 'ZENA', 'BRLT', 'ADVM', 'CABA', 'FOSL', 'UPLD', 'ATLX', 'QMCO', 'BTM', 'FNGR', 'INCR', 'PEPG', 'AXTI', 'ENTX', 'HYMC', 'GMM', 'GORV', 'MURA', 'IOBT', 'UNCY', 'NHTC', 'GANX', 'RGC', 'CRVO', 'MBOT', 'OKYO', 'JZXN', 'NINE', 'DUOT', 'FBIO', 'TDTH', 'LGCL', 'SHLT', 'ATRA', 'GDHG', 'TPST', 'FEMY', 'COEP', 'AWRE', 'QMMM', 'XCUR', 'ELEV', 'WVVI', 'NCEW', 'UBX', 'PMEC', 'PEV', 'NWGL', 'ENLV', 'YOSH', 'PMN', 'RAY', 'CETY', 'AIFU', 'LFWD', 'ANGH', 'IPA', 'MGIH', 'MIRA', 'GOVX', 'ICU', 'BLIN', 'HOTH', 'LEDS', 'BPT', 'UBXG', 'KPRX', 'BFRI', 'ANTE', 'APTO', 'RVYL', 'ASST', 'BREA', 'IVDA', 'DRMA', 'VRAX', 'JNVR', 'ZAPP', 'FAAS', 'SILO', 'BON', 'BKYI', 'STSS', 'FRGT', 'GNPX', 'SXTP', 'HMR']\n"
     ]
    }
   ],
   "source": [
    "#### EMA3 > EMA7 #### Bullish ####\n",
    "ema_df = trading_view_df['Exponential Moving Average (3) 1 day'] > trading_view_df['Exponential Moving Average (7) 1 day']\n",
    "\n",
    "# Apply the filter to smash_df\n",
    "ema_bullish_df = trading_view_df[ema_df]\n",
    "\n",
    "# Print the number of stocks that meet the criteria\n",
    "print(f\"Number of stocks where EMA3 > EMA7: {len(ema_bullish_df)}\")\n",
    "print(\"\\nFiltered stocks:\")\n",
    "print(ema_bullish_df['Symbol'].tolist())"
   ]
  },
  {
   "cell_type": "code",
   "execution_count": 11,
   "metadata": {},
   "outputs": [
    {
     "name": "stdout",
     "output_type": "stream",
     "text": [
      "Number of stocks where EMA3 < EMA7: 877\n",
      "\n",
      "Filtered stocks:\n",
      "['META', 'TSLA', 'JPM', 'UNH', 'JNJ', 'NVO', 'BAC', 'TMUS', 'KO', 'PM', 'AZN', 'WFC', 'NVS', 'MCD', 'PEP', 'HSBC', 'T', 'VZ', 'MS', 'RTX', 'AMGN', 'BX', 'UBER', 'SPGI', 'PFE', 'SYK', 'SCHW', 'CMCSA', 'C', 'BA', 'ARM', 'MMC', 'UPS', 'SO', 'APP', 'RELX', 'CRWD', 'GEV', 'BN', 'MCO', 'HCA', 'APOS', 'DASH', 'TT', 'SE', 'EPD', 'MFG', 'MSI', 'MSTR', 'STRK', 'CDNS', 'CEG', 'USB', 'COF', 'ROP', 'BNS', 'FDX', 'JD', 'BK', 'RCL', 'CSX', 'CHTR', 'SPG', 'TFC', 'DLR', 'CPRT', 'O', 'TGT', 'NWG', 'KDP', 'EXC', 'MPC', 'NDAQ', 'CCI', 'CPNG', 'VST', 'DFS', 'TRGP', 'EW', 'XEL', 'VALE', 'LULU', 'GLW', 'PRU', 'RBLX', 'FIS', 'ETR', 'ODFL', 'BRO', 'GIS', 'WEC', 'IQV', 'RMD', 'WTW', 'LVS', 'LEN.B', 'FER', 'FERG', 'HUM', 'HEI', 'NUE', 'XYL', 'VTR', 'ARES', 'OWL', 'DAL', 'MPWR', 'WDS', 'FWONK', 'FWONA', 'CHD', 'HPQ', 'IP', 'FITB', 'VG', 'PPG', 'MT', 'STT', 'BNTX', 'RYAAY', 'CHKP', 'LYB', 'UAL', 'GPN', 'ADM', 'FOX', 'CDW', 'RDDT', 'PINS', 'MKC', 'HAL', 'WY', 'HBAN', 'HPE', 'KB', 'KSPI', 'RF', 'BIP', 'CLX', 'NRG', 'RYAN', 'DECK', 'PODD', 'KEY', 'BF.B', 'WST', 'NWSA', 'EQH/PC', 'PSTG', 'SHG', 'ULTA', 'ARCC', 'CG', 'BALL', 'AS', 'DT', 'DOC', 'DLTR', 'WPC', 'LOGI', 'INCY', 'SFM', 'FLEX', 'REG', 'AMH', 'SOFI', 'SOLV', 'BSY', 'CAG', 'NLY', 'TAP', 'SJM', 'SUZ', 'LBRDK', 'TXRH', 'FTI', 'HLI', 'NBIX', 'SNX', 'UHS', 'EMN', 'EXEL', 'RTO', 'RBRK', 'APG', 'ULS', 'GME', 'SEIC', 'FND', 'UWMC', 'PRI', 'AGNC', 'FYBR', 'KVYO', 'REXR', 'WPP', 'MGM', 'HSIC', 'ASTS', 'SKX', 'JAZZ', 'HQY', 'NCLH', 'MIDD', 'AYI', 'PLNT', 'CHDN', 'NNN', 'RRX', 'FRHC', 'DBX', 'KNX', 'TEM', 'EXLS', 'OBDC', 'BXSL', 'UMBF', 'VFS', 'AAL', 'ZION', 'TRNO', 'ALK', 'VFC', 'AAON', 'LEVI', 'BBWI', 'LCID', 'WING', 'GLBE', 'BPOP', 'EAT', 'TMHC', 'CHH', 'RITM', 'SRAD', 'GLOB', 'CE', 'CORT', 'CZR', 'RMBS', 'DDS', 'ZWS', 'GPI', 'WSC', 'CRVL', 'BLCO', 'VERX', 'CYTK', 'ELAN', 'QXO', 'FG', 'PHI', 'WHR', 'OZK', 'AL', 'CSWI', 'COTY', 'IEP', 'RRR', 'AHR', 'BILL', 'SON', 'MARA', 'CBT', 'DJT', 'SLG', 'SMR', 'BIPC', 'DY', 'FRPT', 'FIVE', 'ACHR', 'ACA', 'M', 'SWTX', 'MUR', 'HHH', 'PVH', 'CRSP', 'NE', 'TNET', 'FRO', 'SHAK', 'SOUN', 'GLNG', 'DNB', 'SMPL', 'HAE', 'APLE', 'FULT', 'CARG', 'HTGC', 'AVA', 'ASO', 'OKLO', 'NOMD', 'RXO', 'SGRY', 'WSBC', 'CNK', 'AVPT', 'CLVT', 'KRP', 'HCM', 'AI', 'FOLD', 'CON', 'JJSF', 'ALKT', 'MCW', 'CORZ', 'BEAM', 'GOF', 'PENN', 'SYNA', 'BATRK', 'LMND', 'RNG', 'CAKE', 'EWTX', 'ABR', 'CPRI', 'MANU', 'LBRT', 'WAFD', 'LCII', 'AMBA', 'FA', 'TMDX', 'ZIM', 'BANR', 'FIVN', 'HAFN', 'CAR', 'ENR', 'SOC', 'TDW', 'LGF.B', 'EFSC', 'SYBT', 'OII', 'HTH', 'BUSE', 'JBLU', 'STNG', 'OXLC', 'USA', 'CVI', 'PLTK', 'MSDL', 'CLOV', 'TRMD', 'NEXT', 'DBRG', 'PBI', 'ARCB', 'OSW', 'RVT', 'DRH', 'CWH', 'TWFG', 'BWLP', 'STGW', 'GOGL', 'CNXN', 'DBD', 'BCRX', 'NGVT', 'BTU', 'MCRI', 'LZ', 'IREN', 'ELME', 'SDRL', 'TDOC', 'HPK', 'NABL', 'FL', 'PHR', 'UTI', 'BAK', 'ARR', 'PZZA', 'CABO', 'LUCK', 'ENVX', 'SEMR', 'TWO', 'AVDX', 'EH', 'VSCO', 'VITL', 'ULCC', 'SCL', 'OCSL', 'AMC', 'DX', 'PMT', 'GPCR', 'ETNB', 'DQ', 'IOVA', 'NMFC', 'ARHS', 'BST', 'MOMO', 'UDMY', 'NVEE', 'MODG', 'SPHR', 'SYRE', 'DAVE', 'WINA', 'CMPO', 'ARLO', 'LOT', 'SHCO', 'NRIX', 'NNE', 'FUBO', 'CDNA', 'BBDC', 'NVGS', 'VIR', 'AMSF', 'MRC', 'XNCR', 'DK', 'FLNC', 'PENG', 'TV', 'OXM', 'FTRE', 'GOGO', 'DAWN', 'EOLS', 'WOLF', 'RWTN', 'WEAV', 'DSP', 'AOSL', 'ECVT', 'UP', 'AXGN', 'ORC', 'MSIF', 'MYTE', 'XRX', 'NESR', 'PRTA', 'EVGO', 'CRON', 'BCYC', 'BLMN', 'ECC', 'FUFU', 'DEC', 'DLX', 'GDEN', 'TCPC', 'ETD', 'DNTH', 'WOOF', 'VMO', 'ASTL', 'CCAP', 'ABUS', 'OPY', 'LAC', 'NGL', 'MAX', 'NYMTI', 'SLQT', 'PDS', 'GNK', 'MCB', 'TMC', 'XPOF', 'CAPR', 'ADV', 'CASS', 'ETJ', 'GCT', 'TLRY', 'CCD', 'NCMI', 'BGB', 'BORR', 'PHAR', 'TK', 'GLDD', 'IVR', 'NAT', 'WEST', 'SHLS', 'GRRR', 'INDI', 'TWI', 'GES', 'RDVT', 'BBW', 'MCS', 'EVLV', 'MNMD', 'NNDM', 'OPT', 'GUT', 'CCNE', 'STK', 'RXT', 'BIGC', 'TCBX', 'TTI', 'RNAC', 'FLWS', 'DCTH', 'CLNE', 'FNKO', 'OPAL', 'HPP', 'INV', 'RICK', 'ETON', 'HIX', 'DNA', 'CARE', 'DIN', 'OUST', 'HRZN', 'RIGL', 'XFLT', 'CYH', 'BTBT', 'ZEUS', 'DDD', 'ABSI', 'RYAM', 'CMPX', 'SIFY', 'PACB', 'SPOK', 'MXCT', 'EBS', 'APPS', 'NEWT', 'PANL', 'TCMD', 'PSNL', 'CLCO', 'OLMA', 'EXFY', 'GOCO', 'REFI', 'HCAT', 'TERN', 'TPVG', 'ESPR', 'GEVO', 'CHPT', 'EVTL', 'BBCP', 'JMIA', 'ASPI', 'PBPB', 'PROK', 'TKNO', 'NRDY', 'EGHT', 'AEHR', 'BKSY', 'BYON', 'MBI', 'BRY', 'EU', 'IMMP', 'BLDE', 'BARK', 'ACB', 'PRME', 'ACIU', 'CRNT', 'ISPR', 'AZUL', 'VYGR', 'WTI', 'KOPN', 'OVLY', 'OPRT', 'ALLT', 'ARQ', 'AMPX', 'EB', 'SLDP', 'MKTW', 'TLS', 'CRML', 'LAKE', 'OXSQ', 'KOD', 'RR', 'TVGN', 'PERF', 'RDCM', 'HITI', 'MAPS', 'ATOM', 'NRGV', 'AIRS', 'STIM', 'LTBR', 'KINS', 'VUZI', 'AMRN', 'DBI', 'NKTR', 'BKKT', 'ZVIA', 'EDF', 'RAIL', 'AEVA', 'QVCGB', 'LFT', 'SNBR', 'SVCO', 'ILLR', 'FTLF', 'GPMT', 'ONL', 'PAYS', 'OGI', 'RILY', 'TIL', 'ADAP', 'INVZ', 'AISP', 'BDSX', 'CDLX', 'CHRS', 'GPRO', 'ARBE', 'PSQH', 'LUCD', 'FRGE', 'IMUX', 'IVVD', 'VTYX', 'RPID', 'TUSK', 'TNYA', 'BDTX', 'ACHV', 'PLRX', 'BMEA', 'WBX', 'GCTS', 'ANIX', 'HLVX', 'EDAP', 'NB', 'RANI', 'DHX', 'CRBP', 'CSAI', 'IFRX', 'LPTH', 'DOMH', 'CCG', 'PRPL', 'BZFD', 'ABOS', 'RDZN', 'NSPR', 'OWLT', 'MGX', 'THTX', 'NTRB', 'WLGS', 'NUKK', 'VANI', 'SRFM', 'TISI', 'GSIT', 'GUTS', 'AIRE', 'SELF', 'OSS', 'PHUN', 'XFOR', 'HOWL', 'MIND', 'PDSB', 'JG', 'FARM', 'TOI', 'IPSC', 'OPTX', 'ALAR', 'TPIC', 'MAXN', 'GIFT', 'DGHI', 'BIRD', 'WW', 'AGEN', 'SPWH', 'ZBAO', 'CLIR', 'JVA', 'AREC', 'BLUE', 'OVID', 'GBIO', 'NRXP', 'FTCI', 'BTCS', 'SHOT', 'LITM', 'BEEM', 'SDST', 'VIVK', 'ELPW', 'MDAI', 'IRD', 'LBGJ', 'BTCM', 'CCLD', 'HBIO', 'VNCE', 'PASG', 'NRSN', 'ORIS', 'SPCB', 'INLF', 'CTRM', 'XAIR', 'CPSH', 'BGFV', 'CDIO', 'AMOD', 'BTCT', 'CHR', 'VCIG', 'DTC', 'ONMD', 'GFAI', 'HTCR', 'JUNS', 'BCAB', 'GTEC', 'CMBM', 'KSCP', 'CGTX', 'PITA', 'CAPT', 'BHV', 'IPW', 'FTHM', 'KIRK', 'HOOK', 'GTI', 'GP', 'TRAW', 'SEED', 'XHLD', 'AFMD', 'GRYP', 'SISI', 'LTRY', 'NAAS', 'PET', 'ATHA', 'SMSI', 'SKYQ', 'CING', 'PRZO', 'LYRA', 'COSM', 'SAIH', 'BSLK', 'ADN', 'OMEX', 'YYAI', 'WCT', 'APCX', 'BNRG', 'BNGO', 'RVSN', 'KDLY', 'AEI', 'TXMD', 'WATT', 'JTAI', 'NVNI', 'DATS', 'CPOP', 'BNZI', 'DFLI', 'LCFY', 'POAI', 'LNKS', 'GURE', 'TRIB', 'WAFU', 'AIMD', 'CNSP', 'WTO', 'LRHC', 'PAVM', 'TGL', 'NXU', 'OMH', 'EVOK', 'BIAF', 'MNTS', 'XTIA', 'RDGT', 'CTNT', 'RIME', 'XBIO', 'DRCT', 'CHSN', 'EVTV', 'DMN', 'TWG', 'ALLR', 'GNLN', 'SOPA', 'ASNS', 'SYRA', 'ATPC', 'IBG', 'GCTK', 'BLMZ', 'APVO', 'LICN', 'WHLR', 'IVP', 'ENVB', 'PLRZ', 'BOXL', 'BENF', 'BBLG', 'MYSZ', 'SNES', 'ELAB', 'SBET', 'ASTI', 'RSLS', 'AKAN', 'NAOV', 'TRNR', 'SHPH', 'NXTT', 'ZVSA', 'PTIX', 'TIVC', 'NIVF', 'SGD', 'ATXI', 'QNRX', 'SPGC', 'ISPC', 'LGMK', 'TNFA', 'SOBR', 'TCBP', 'ECAT', 'BCAT', 'FSCO', 'ICON', 'CASK', 'HYT', 'PLUT', 'HKPD', 'AGH', 'OXLCG', 'JBDI']\n"
     ]
    }
   ],
   "source": [
    "#### EMA3 > EMA7 #### Bullish ####\n",
    "ema_df = trading_view_df['Exponential Moving Average (3) 1 day'] < trading_view_df['Exponential Moving Average (7) 1 day']\n",
    "\n",
    "# Apply the filter to smash_df\n",
    "ema_bearish_df = trading_view_df[ema_df]\n",
    "\n",
    "# Print the number of stocks that meet the criteria\n",
    "print(f\"Number of stocks where EMA3 < EMA7: {len(ema_bearish_df)}\")\n",
    "print(\"\\nFiltered stocks:\")\n",
    "print(ema_bearish_df['Symbol'].tolist())"
   ]
  }
 ],
 "metadata": {
  "kernelspec": {
   "display_name": "mm_venv",
   "language": "python",
   "name": "python3"
  },
  "language_info": {
   "codemirror_mode": {
    "name": "ipython",
    "version": 3
   },
   "file_extension": ".py",
   "mimetype": "text/x-python",
   "name": "python",
   "nbconvert_exporter": "python",
   "pygments_lexer": "ipython3",
   "version": "3.11.1"
  }
 },
 "nbformat": 4,
 "nbformat_minor": 2
}
